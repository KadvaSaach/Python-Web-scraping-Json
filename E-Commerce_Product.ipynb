{
 "cells": [
  {
   "cell_type": "code",
   "execution_count": 2,
   "id": "03710044",
   "metadata": {},
   "outputs": [],
   "source": [
    "import requests\n",
    "from bs4 import BeautifulSoup\n",
    "import json"
   ]
  },
  {
   "cell_type": "code",
   "execution_count": 3,
   "id": "93759ee5",
   "metadata": {},
   "outputs": [],
   "source": [
    "def FindAlternateGroups(store_domain):\n",
    "    store_url = f\"https://www.{store_domain}\"\n",
    "    collection_url = f\"{store_url}/collections/all\"\n",
    "    products_url = f\"{collection_url}/products.json?page=1\"\n",
    "    \n",
    "    res = requests.get(products_url)\n",
    "    products_json = res.json()\n",
    "    \n",
    "    # print(products_json)\n",
    "    alt_grp = []\n",
    "    prod = {}\n",
    "    cnt = 0\n",
    "    \n",
    "    for product in products_json['products']:\n",
    "        cnt = cnt + 1\n",
    "        title = product['title']\n",
    "        link = f\"{store_url}/products/{product['handle']}\"\n",
    "        \n",
    "        #print(f\"Product No. {cnt}\")\n",
    "        #print(f\"title - {title} \\n\")\n",
    "        #print(f\"----------------------\\n\")\n",
    "        #print(f\"link - {link} \\n\")\n",
    "        #print(f\"________________________________\\n\")\n",
    "        \n",
    "        if title in prod:\n",
    "            prod[title].append(link)\n",
    "        else:\n",
    "            prod[title] = [link]\n",
    "    \n",
    "    #print(prod)\n",
    "    \n",
    "    for x in prod.values():\n",
    "        alt_grp.append({\"product alternates\": x})\n",
    "    \n",
    "    #print(alt_grp)\n",
    "    \n",
    "    save_file = open(\"result.json\",\"w\")\n",
    "    json.dump(alt_grp,save_file,indent=6)\n",
    "    save_file.close()   \n",
    "    "
   ]
  },
  {
   "cell_type": "code",
   "execution_count": 4,
   "id": "81e7a6b1",
   "metadata": {},
   "outputs": [],
   "source": [
    "store_domain = \"boysnextdoor-apparel.co\"\n",
    "FindAlternateGroups(store_domain)\n"
   ]
  },
  {
   "cell_type": "code",
   "execution_count": 5,
   "id": "ae415988",
   "metadata": {},
   "outputs": [],
   "source": [
    "with open(\"result.json\", 'r') as f:\n",
    "    result = json.load(f)"
   ]
  },
  {
   "cell_type": "code",
   "execution_count": 6,
   "id": "f8a88d40",
   "metadata": {},
   "outputs": [
    {
     "data": {
      "text/plain": [
       "[{'product alternates': ['https://www.boysnextdoor-apparel.co/products/a-p-c-daniela-logo-print-denim-tote-bag']},\n",
       " {'product alternates': ['https://www.boysnextdoor-apparel.co/products/and-wander-dyneema-stuffsack']},\n",
       " {'product alternates': ['https://www.boysnextdoor-apparel.co/products/and-wander-heather-waist-bag-charcoal']},\n",
       " {'product alternates': ['https://www.boysnextdoor-apparel.co/products/and-wander-heather-waist-bag-navy']},\n",
       " {'product alternates': ['https://www.boysnextdoor-apparel.co/products/axel-arigato-marathon-sneaker-white-silver']},\n",
       " {'product alternates': ['https://www.boysnextdoor-apparel.co/products/beams-dot-vintage-style-bandana-overshirt']},\n",
       " {'product alternates': ['https://www.boysnextdoor-apparel.co/products/beams-plus-usn-popover-anorak']},\n",
       " {'product alternates': ['https://www.boysnextdoor-apparel.co/products/beams-two-pocket-sweater-navy']},\n",
       " {'product alternates': ['https://www.boysnextdoor-apparel.co/products/beams-two-pocket-sweater-white']},\n",
       " {'product alternates': ['https://www.boysnextdoor-apparel.co/products/beams-x-abu-garcia-limited-edition-shorts-black']},\n",
       " {'product alternates': ['https://www.boysnextdoor-apparel.co/products/beams-x-abu-garcia-limited-edition-shorts-green']},\n",
       " {'product alternates': ['https://www.boysnextdoor-apparel.co/products/beams-x-columbia-limited-edition-shorts-black']},\n",
       " {'product alternates': ['https://www.boysnextdoor-apparel.co/products/copy-of-beams-x-columbia-limited-edition-shorts-navy']},\n",
       " {'product alternates': ['https://www.boysnextdoor-apparel.co/products/beams-x-columbia-logriver-bms-jacket-black']},\n",
       " {'product alternates': ['https://www.boysnextdoor-apparel.co/products/beams-x-columbia-logriver-bms-jacket-navy']},\n",
       " {'product alternates': ['https://www.boysnextdoor-apparel.co/products/beams-x-columbia-riptide-short']},\n",
       " {'product alternates': ['https://www.boysnextdoor-apparel.co/products/beams-x-columbia-riptide-short-grey']},\n",
       " {'product alternates': ['https://www.boysnextdoor-apparel.co/products/ben-davis-heavy-duty-pocket-tee-ash-grey']},\n",
       " {'product alternates': ['https://www.boysnextdoor-apparel.co/products/ben-davis-heavy-duty-pocket-tee-black']},\n",
       " {'product alternates': ['https://www.boysnextdoor-apparel.co/products/ben-davis-heavy-duty-pocket-tee-charcoal']},\n",
       " {'product alternates': ['https://www.boysnextdoor-apparel.co/products/ben-davis-heavy-duty-pocket-tee-white']},\n",
       " {'product alternates': ['https://www.boysnextdoor-apparel.co/products/ben-davis-pocket-l-s-tee-beige']},\n",
       " {'product alternates': ['https://www.boysnextdoor-apparel.co/products/ben-davis-pocket-l-s-tee-black']},\n",
       " {'product alternates': ['https://www.boysnextdoor-apparel.co/products/ben-davis-pocket-l-s-tee-dark-green']},\n",
       " {'product alternates': ['https://www.boysnextdoor-apparel.co/products/ben-davis-pocket-l-s-tee-white']},\n",
       " {'product alternates': ['https://www.boysnextdoor-apparel.co/products/ben-davis-the-original-low-cap-in-black']},\n",
       " {'product alternates': ['https://www.boysnextdoor-apparel.co/products/birkenstock-zurich-suede-sandals-mink']},\n",
       " {'product alternates': ['https://www.boysnextdoor-apparel.co/products/birkenstock-zurich-suede-sandals-mocha']},\n",
       " {'product alternates': ['https://www.boysnextdoor-apparel.co/products/birkenstock-zurich-suede-sandals-taupe']},\n",
       " {'product alternates': ['https://www.boysnextdoor-apparel.co/products/boysnextdoor-3-way-patchwork-cargo-chino-pants-black']}]"
      ]
     },
     "execution_count": 6,
     "metadata": {},
     "output_type": "execute_result"
    }
   ],
   "source": [
    "result"
   ]
  },
  {
   "cell_type": "code",
   "execution_count": null,
   "id": "7f928679",
   "metadata": {},
   "outputs": [],
   "source": []
  }
 ],
 "metadata": {
  "kernelspec": {
   "display_name": "Python 3 (ipykernel)",
   "language": "python",
   "name": "python3"
  },
  "language_info": {
   "codemirror_mode": {
    "name": "ipython",
    "version": 3
   },
   "file_extension": ".py",
   "mimetype": "text/x-python",
   "name": "python",
   "nbconvert_exporter": "python",
   "pygments_lexer": "ipython3",
   "version": "3.9.16"
  }
 },
 "nbformat": 4,
 "nbformat_minor": 5
}
